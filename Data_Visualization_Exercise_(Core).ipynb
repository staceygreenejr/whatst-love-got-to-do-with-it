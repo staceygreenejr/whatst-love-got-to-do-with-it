{
  "nbformat": 4,
  "nbformat_minor": 0,
  "metadata": {
    "colab": {
      "name": "Data Visualization Exercise (Core).ipynb",
      "provenance": [],
      "authorship_tag": "ABX9TyODmPnfV1G6lt9uRo5KqKmH",
      "include_colab_link": true
    },
    "kernelspec": {
      "name": "python3",
      "display_name": "Python 3"
    },
    "language_info": {
      "name": "python"
    }
  },
  "cells": [
    {
      "cell_type": "markdown",
      "metadata": {
        "id": "view-in-github",
        "colab_type": "text"
      },
      "source": [
        "<a href=\"https://colab.research.google.com/github/staceygreenejr/whatst-love-got-to-do-with-it/blob/main/Data_Visualization_Exercise_(Core).ipynb\" target=\"_parent\"><img src=\"https://colab.research.google.com/assets/colab-badge.svg\" alt=\"Open In Colab\"/></a>"
      ]
    },
    {
      "cell_type": "code",
      "metadata": {
        "colab": {
          "base_uri": "https://localhost:8080/"
        },
        "id": "qyelp553kElG",
        "outputId": "cc6f6a03-1379-45b5-d69a-be969fc75086"
      },
      "source": [
        "# mount data\n",
        "from google.colab import drive\n",
        "drive.mount('/content/drive')"
      ],
      "execution_count": null,
      "outputs": [
        {
          "output_type": "stream",
          "name": "stdout",
          "text": [
            "Drive already mounted at /content/drive; to attempt to forcibly remount, call drive.mount(\"/content/drive\", force_remount=True).\n"
          ]
        }
      ]
    },
    {
      "cell_type": "code",
      "metadata": {
        "id": "K-xkaJsbkoMN"
      },
      "source": [
        "import matplotlib.pyplot as plt\n",
        "import pandas as pd\n",
        "import numpy as np\n",
        "import seaborn as sns\n"
      ],
      "execution_count": null,
      "outputs": []
    },
    {
      "cell_type": "code",
      "metadata": {
        "colab": {
          "base_uri": "https://localhost:8080/",
          "height": 266
        },
        "id": "mx_q9wK5lG75",
        "outputId": "98f91b8a-a1b9-4d91-de20-f2a6e5b62645"
      },
      "source": [
        "df = pd.read_excel (r'/content/drive/MyDrive/Coding Dojo 2021/Valentines Day.xlsx')\n",
        "df.head(7)"
      ],
      "execution_count": null,
      "outputs": [
        {
          "output_type": "execute_result",
          "data": {
            "text/html": [
              "<div>\n",
              "<style scoped>\n",
              "    .dataframe tbody tr th:only-of-type {\n",
              "        vertical-align: middle;\n",
              "    }\n",
              "\n",
              "    .dataframe tbody tr th {\n",
              "        vertical-align: top;\n",
              "    }\n",
              "\n",
              "    .dataframe thead th {\n",
              "        text-align: right;\n",
              "    }\n",
              "</style>\n",
              "<table border=\"1\" class=\"dataframe\">\n",
              "  <thead>\n",
              "    <tr style=\"text-align: right;\">\n",
              "      <th></th>\n",
              "      <th>Point</th>\n",
              "      <th>Men</th>\n",
              "      <th>Women</th>\n",
              "    </tr>\n",
              "  </thead>\n",
              "  <tbody>\n",
              "    <tr>\n",
              "      <th>0</th>\n",
              "      <td>Show how much you care</td>\n",
              "      <td>0.29</td>\n",
              "      <td>0.51</td>\n",
              "    </tr>\n",
              "    <tr>\n",
              "      <th>1</th>\n",
              "      <td>Sex</td>\n",
              "      <td>0.25</td>\n",
              "      <td>0.08</td>\n",
              "    </tr>\n",
              "    <tr>\n",
              "      <th>2</th>\n",
              "      <td>To go out for dinner</td>\n",
              "      <td>0.18</td>\n",
              "      <td>0.06</td>\n",
              "    </tr>\n",
              "    <tr>\n",
              "      <th>3</th>\n",
              "      <td>To impress someone</td>\n",
              "      <td>0.14</td>\n",
              "      <td>0.03</td>\n",
              "    </tr>\n",
              "    <tr>\n",
              "      <th>4</th>\n",
              "      <td>To receive gifts from someone</td>\n",
              "      <td>0.07</td>\n",
              "      <td>0.06</td>\n",
              "    </tr>\n",
              "    <tr>\n",
              "      <th>5</th>\n",
              "      <td>To treat yourself</td>\n",
              "      <td>0.04</td>\n",
              "      <td>0.14</td>\n",
              "    </tr>\n",
              "    <tr>\n",
              "      <th>6</th>\n",
              "      <td>To buy someone gifts</td>\n",
              "      <td>0.03</td>\n",
              "      <td>0.12</td>\n",
              "    </tr>\n",
              "  </tbody>\n",
              "</table>\n",
              "</div>"
            ],
            "text/plain": [
              "                           Point   Men  Women\n",
              "0         Show how much you care  0.29   0.51\n",
              "1                            Sex  0.25   0.08\n",
              "2           To go out for dinner  0.18   0.06\n",
              "3             To impress someone  0.14   0.03\n",
              "4  To receive gifts from someone  0.07   0.06\n",
              "5              To treat yourself  0.04   0.14\n",
              "6           To buy someone gifts  0.03   0.12"
            ]
          },
          "metadata": {},
          "execution_count": 65
        }
      ]
    },
    {
      "cell_type": "code",
      "metadata": {
        "colab": {
          "base_uri": "https://localhost:8080/",
          "height": 326
        },
        "id": "qcoYiGQYgHPk",
        "outputId": "15a665e3-8cf1-4947-e12e-d2ef3e8c6aa1"
      },
      "source": [
        "Men = [ 29, 25, 18, 14, 7, 4, 3]\n",
        "Women = [51, 8, 6, 3, 6, 14,12]\n",
        "index =['Show how much you care', 'Sex', 'To go out for dinner','To impress someone', 'To receive gifts from someone', 'To treat yourself', 'To buy someone gifts']\n",
        "df = pd.DataFrame({'men': Men,'women': Women}, index=index)\n",
        "ax = df.plot.barh(color={\"men\": \"darkblue\", \"women\": \"Pink\"}, )\n",
        "plt.title('Why Valentines Day?',color=\"pink\", fontsize=20)\n",
        "plt.xlabel('Percentage', fontsize=20, color=\"darkblue\")\n",
        "plt.ylabel('Point', fontsize=20, color=\"darkblue\")\n"
      ],
      "execution_count": null,
      "outputs": [
        {
          "output_type": "execute_result",
          "data": {
            "text/plain": [
              "Text(0, 0.5, 'Point')"
            ]
          },
          "metadata": {},
          "execution_count": 146
        },
        {
          "output_type": "display_data",
          "data": {
            "image/png": "[encoded data removed]",
            "text/plain": [
              "<Figure size 432x288 with 1 Axes>"
            ]
          },
          "metadata": {
            "needs_background": "light"
          }
        }
      ]
    }
  ]
}